{
 "cells": [
  {
   "cell_type": "code",
   "execution_count": 1,
   "metadata": {},
   "outputs": [],
   "source": [
    "import numpy as np\n",
    "import pandas as pd\n",
    "from sklearn.model_selection import train_test_split"
   ]
  },
  {
   "cell_type": "code",
   "execution_count": 2,
   "metadata": {},
   "outputs": [],
   "source": [
    "raw_train_data = pd.read_csv('data/train_set.csv', sep='\\t')\n",
    "train_data, test_data = train_test_split(raw_train_data, test_size=0.2)"
   ]
  },
  {
   "cell_type": "code",
   "execution_count": 3,
   "metadata": {},
   "outputs": [],
   "source": [
    "from collections import Counter"
   ]
  },
  {
   "cell_type": "code",
   "execution_count": 4,
   "metadata": {},
   "outputs": [],
   "source": [
    "word_cnt = Counter()\n",
    "for txt in train_data['text']:\n",
    "    word_cnt.update(map(int, txt.split()))"
   ]
  },
  {
   "cell_type": "code",
   "execution_count": 5,
   "metadata": {},
   "outputs": [],
   "source": [
    "word_freq_list = list(sorted(word_cnt.items(), key=lambda item: (item[1], item[0]), reverse=True))"
   ]
  },
  {
   "cell_type": "code",
   "execution_count": 6,
   "metadata": {},
   "outputs": [
    {
     "name": "stdout",
     "output_type": "stream",
     "text": [
      "6759\n"
     ]
    },
    {
     "data": {
      "text/plain": [
       "(array([187., 164., 115., 111.,  89.,  83.,  82.,  62.,  58.,  49.]),\n",
       " array([ 26. ,  38.6,  51.2,  63.8,  76.4,  89. , 101.6, 114.2, 126.8,\n",
       "        139.4, 152. ]),\n",
       " <a list of 10 Patch objects>)"
      ]
     },
     "execution_count": 6,
     "metadata": {},
     "output_type": "execute_result"
    },
    {
     "data": {
      "image/png": "[encoded data removed]",
      "text/plain": [
       "<Figure size 432x288 with 1 Axes>"
      ]
     },
     "metadata": {
      "needs_background": "light"
     },
     "output_type": "display_data"
    }
   ],
   "source": [
    "print(len(word_freq_list))\n",
    "import matplotlib.pyplot as plt\n",
    "plt.hist([item[1] for item in word_freq_list[4000:5000]])"
   ]
  },
  {
   "cell_type": "code",
   "execution_count": 26,
   "metadata": {},
   "outputs": [],
   "source": [
    "feature_words = {word_freq_list[i+2000][0]:i for i in range(2000)}"
   ]
  },
  {
   "cell_type": "code",
   "execution_count": 27,
   "metadata": {},
   "outputs": [],
   "source": [
    "# use a feature vector whose len = 100, use %100 to map 1000 index to 100 buckets\n",
    "label_features = np.zeros([14, 100])\n",
    "label_count = [0] * 14\n",
    "for idx, row in train_data.iterrows():\n",
    "    label = row['label']\n",
    "    label_count[label] += 1\n",
    "    \n",
    "    text = map(int, row['text'].split())\n",
    "    for word in text:\n",
    "        if word in feature_words:\n",
    "            word_idx = feature_words[word] % 100\n",
    "            label_features[label][word_idx] += 1"
   ]
  },
  {
   "cell_type": "code",
   "execution_count": 28,
   "metadata": {},
   "outputs": [],
   "source": [
    "normalized_label_features = np.zeros([14, 100])\n",
    "for i in range(14):\n",
    "    v_len = (np.array(label_features[i]).dot(np.array(label_features[i]))) ** 0.5\n",
    "    for j in range(100):\n",
    "        normalized_label_features[i][j] = label_features[i][j]/v_len"
   ]
  },
  {
   "cell_type": "code",
   "execution_count": 29,
   "metadata": {},
   "outputs": [
    {
     "data": {
      "image/png": "[encoded data removed]",
      "text/plain": [
       "<Figure size 432x288 with 14 Axes>"
      ]
     },
     "metadata": {
      "needs_background": "light"
     },
     "output_type": "display_data"
    }
   ],
   "source": [
    "for i in range(14):\n",
    "    plt.subplot(3, 5, i+1)\n",
    "    plt.hist(normalized_label_features[i])"
   ]
  },
  {
   "cell_type": "code",
   "execution_count": 30,
   "metadata": {},
   "outputs": [
    {
     "data": {
      "text/plain": [
       "array([1.        , 0.90987497, 0.90230696, 0.93399695, 0.8852186 ,\n",
       "       0.90481133, 0.92653133, 0.82366749, 0.88234864, 0.91685801,\n",
       "       0.88937142, 0.84532016, 0.67804287, 0.76812382])"
      ]
     },
     "execution_count": 30,
     "metadata": {},
     "output_type": "execute_result"
    }
   ],
   "source": [
    "normalized_label_features[0].dot(normalized_label_features.T)"
   ]
  },
  {
   "cell_type": "code",
   "execution_count": 31,
   "metadata": {},
   "outputs": [],
   "source": [
    "def predict(text):\n",
    "    feature = [0] * 100\n",
    "    for w in map(int, text.split()):\n",
    "        if w in feature_words:\n",
    "            feature[feature_words[w] % 100] += 1\n",
    "    print(normalized_label_features.dot(np.array(feature)))\n",
    "    return np.argmax(normalized_label_features.dot(np.array(feature)))"
   ]
  },
  {
   "cell_type": "code",
   "execution_count": 32,
   "metadata": {},
   "outputs": [
    {
     "name": "stdout",
     "output_type": "stream",
     "text": [
      "[4.10912072 4.72137734 3.25271081 3.05970385 2.95907574 3.49853645\n",
      " 2.98963713 4.05745875 3.62604795 2.92164625 3.87868983 2.93973031\n",
      " 1.59355629 2.14534765]\n",
      "[0.63826181 0.42758309 0.42959633 0.57086339 0.40798644 0.34472934\n",
      " 0.54699799 0.25637549 0.35748779 0.511273   0.44338511 0.48100708\n",
      " 0.16610763 0.44436488]\n",
      "[0.25085718 0.26784646 0.28298806 0.2594178  0.22952906 0.33573756\n",
      " 0.4015135  0.16858763 0.23699813 0.22955361 0.42255494 0.22438434\n",
      " 0.63791959 0.20593738]\n",
      "[0. 0. 0. 0. 0. 0. 0. 0. 0. 0. 0. 0. 0. 0.]\n",
      "[0.17549008 0.12489443 0.20266671 0.21713855 0.17288058 0.24414846\n",
      " 0.16433628 0.16760493 0.24976137 0.18439156 0.14078965 0.19073311\n",
      " 0.14083939 0.15945151]\n",
      "[1.74394151 2.29298448 2.2191846  1.99949083 1.75478196 2.19994342\n",
      " 1.68057284 1.64274669 1.72748686 2.07974843 2.46372593 1.78582708\n",
      " 4.733032   1.21912929]\n",
      "[0.30434122 0.3451688  0.23118489 0.21420064 0.26504443 0.29809912\n",
      " 0.211219   0.23355501 0.38196042 0.35067    0.39149567 0.55177741\n",
      " 0.11474268 0.66129891]\n",
      "[0.14087441 0.22046296 0.26987869 0.24571644 0.17280721 0.20851562\n",
      " 0.16788949 0.15723199 0.13863922 0.12872391 0.12349317 0.18996248\n",
      " 0.11267151 0.10496808]\n",
      "[1.82537344 2.09538819 2.69109567 2.26149934 1.93830248 2.85707849\n",
      " 2.29508195 2.79872935 1.77397315 2.27126449 1.79846227 1.78454269\n",
      " 0.90592867 1.69798368]\n",
      "[0.1796397  0.21452234 0.21976704 0.1668468  0.11014166 0.20888331\n",
      " 0.15476233 0.36763896 0.14507939 0.15287473 0.21109149 0.11932058\n",
      " 0.16776457 0.19943935]\n",
      "[0.59272235 0.77525072 0.8121205  0.59877357 0.78038413 0.69260078\n",
      " 0.51393333 0.61680798 0.55092697 0.68153633 0.39540132 0.70089603\n",
      " 0.54968786 0.42087202]\n",
      "[0. 0. 0. 0. 0. 0. 0. 0. 0. 0. 0. 0. 0. 0.]\n",
      "[0. 0. 0. 0. 0. 0. 0. 0. 0. 0. 0. 0. 0. 0.]\n",
      "[2.39685113 2.57605967 2.42378071 2.5844295  2.57633163 2.70281437\n",
      " 2.61191044 1.86134282 2.37899752 2.45952018 2.26230559 2.70648362\n",
      " 1.57615848 2.05187607]\n",
      "[0.18038451 0.17388096 0.21828695 0.19197932 0.19320653 0.26380335\n",
      " 0.13768715 0.14620391 0.09929566 0.12304846 0.14339342 0.05728415\n",
      " 0.32558753 0.14345638]\n",
      "[0.83914616 0.96379464 0.90068807 0.75290722 0.85273568 0.75039551\n",
      " 0.72742244 0.95518432 0.76965845 0.80144518 0.82930127 0.82676704\n",
      " 0.68141411 0.59731837]\n",
      "[0.07660844 0.0813299  0.12387831 0.09358591 0.09443859 0.05956634\n",
      " 0.09721996 0.05142796 0.13009136 0.1110938  0.09261988 0.06023827\n",
      " 0.03686678 0.12796109]\n",
      "[0.09242667 0.07595505 0.0664455  0.11353702 0.09135668 0.11983464\n",
      " 0.07096564 0.11159103 0.12060676 0.07788642 0.09038807 0.13267832\n",
      " 0.02609671 0.07347766]\n",
      "[0.08129007 0.11452192 0.08161643 0.09281137 0.11263654 0.09031889\n",
      " 0.13897026 0.06605927 0.08454182 0.15963696 0.08332069 0.10429312\n",
      " 0.07580473 0.10546793]\n",
      "[0.53462761 0.39585265 0.39909589 0.63400183 0.40123558 0.49902688\n",
      " 0.48323748 0.20833238 0.73816018 0.44002806 0.37178139 0.53379584\n",
      " 0.16362223 0.24942416]\n",
      "[0.16304121 0.1952389  0.18416557 0.14104658 0.20098469 0.21640432\n",
      " 0.20203985 0.14642229 0.23102634 0.14587099 0.12870071 0.1435957\n",
      " 0.1594799  0.09896991]\n",
      "[0.58183402 0.67534461 0.57773756 0.56007323 0.54058203 0.48923287\n",
      " 0.72090821 0.45520844 0.58289362 0.69807964 0.60221518 0.63680457\n",
      " 0.43494518 0.75527034]\n",
      "[1.06397066 1.08133403 1.19702337 1.10054257 1.04645586 0.96145155\n",
      " 1.08136231 0.85232839 1.07176081 0.87462218 1.01677283 0.90254653\n",
      " 0.58821157 0.62431016]\n",
      "[0.12175777 0.12550735 0.04286977 0.08538646 0.07095735 0.08597342\n",
      " 0.07965128 0.20243618 0.20046482 0.0452828  0.10638267 0.12137562\n",
      " 0.02402554 0.03398966]\n",
      "[0.45628129 0.22616784 0.25462847 0.2397872  0.36755469 0.18692199\n",
      " 0.31475579 0.22798638 0.35292113 0.3843604  0.23192166 0.19895326\n",
      " 0.21457295 0.18494376]\n",
      "[0.17790182 0.13767148 0.25409986 0.17317667 0.12019457 0.11211308\n",
      " 0.19443992 0.12513046 0.23910582 0.25068558 0.15883007 0.24223748\n",
      " 0.23445616 0.22393191]\n",
      "[0.0867165  0.09424839 0.0953337  0.10170524 0.07954268 0.12073716\n",
      " 0.07264354 0.06147334 0.09601703 0.09225616 0.15790015 0.16414607\n",
      " 0.06420619 0.05248404]\n",
      "[1.09844446 1.11094282 0.99890266 1.04336008 0.78302577 0.93688295\n",
      " 0.8895873  1.12169736 0.99155146 1.01626678 1.24646268 1.17483892\n",
      " 0.52773348 1.60951058]\n",
      "[1.85452721 1.9537563  1.68214954 1.90804158 1.97653286 1.97568383\n",
      " 1.93591095 1.47634284 2.14644896 1.84065525 1.7889771  2.55659437\n",
      " 1.06789397 1.53653277]\n",
      "[3.24528961 3.72976551 3.12798674 2.97736214 2.7773897  2.72353891\n",
      " 3.17598361 3.2371227  3.27464905 2.83591081 3.67187597 3.32183874\n",
      " 3.21279505 2.72966997]\n",
      "[1.0313766  0.77242186 0.92907409 0.81513758 0.79212475 0.74879103\n",
      " 1.0360588  0.80002692 0.7164978  0.84262234 0.6898135  0.70140979\n",
      " 0.78662942 0.79225909]\n",
      "[0.09044052 0.16530007 0.05761782 0.11278919 0.03764335 0.05184478\n",
      " 0.07540716 0.35944979 0.07950678 0.06086008 0.07495143 0.08425651\n",
      " 0.06296349 0.05198419]\n",
      "[0.13966854 0.17124069 0.20626121 0.22215971 0.24141644 0.23298395\n",
      " 0.17252842 0.14500283 0.1332529  0.12703335 0.17147696 0.10249497\n",
      " 0.10604378 0.16095106]\n",
      "[1.29223544 1.28548385 1.0288745  1.30940155 0.90688928 0.90121668\n",
      " 1.29435792 0.82404847 0.98639933 0.83827519 1.56282094 0.93350052\n",
      " 0.62466412 1.17564251]\n",
      "[0. 0. 0. 0. 0. 0. 0. 0. 0. 0. 0. 0. 0. 0.]\n",
      "[0.92384105 0.94625567 1.2149959  1.08900458 1.03816405 1.193299\n",
      " 1.16831742 1.22793814 0.85420027 1.04476476 0.95019067 1.03817896\n",
      " 0.47056926 1.16414601]\n",
      "[2.13624056 2.91382627 1.98620246 1.64958527 1.77143896 2.12994796\n",
      " 1.94953161 2.1963343  2.0124935  1.83425528 1.75308225 1.44302124\n",
      " 1.12298703 1.77745951]\n",
      "[2.27739871 2.47129733 2.23245256 1.96420915 1.89383489 1.98086497\n",
      " 1.76269163 1.60791543 1.80371501 1.56195471 1.94315758 1.62669016\n",
      " 1.30897787 1.11865984]\n",
      "[1.00190363 1.08986777 0.99588962 1.02987239 0.9557596  1.02820463\n",
      " 0.90162876 1.06895913 0.87469171 0.68576272 0.89997507 1.00594057\n",
      " 0.55175903 0.83674556]\n",
      "[0.07866552 0.07774667 0.13141091 0.09769899 0.09583279 0.05816242\n",
      " 0.18506337 0.04673284 0.04484698 0.04962995 0.04984363 0.09966929\n",
      " 0.13048355 0.17144787]\n"
     ]
    }
   ],
   "source": [
    "test_samples = test_data.sample(frac=0.01)\n",
    "test_samples['res'] = test_samples['text'].apply(predict)"
   ]
  },
  {
   "cell_type": "code",
   "execution_count": 34,
   "metadata": {},
   "outputs": [
    {
     "data": {
      "text/html": [
       "<div>\n",
       "<style scoped>\n",
       "    .dataframe tbody tr th:only-of-type {\n",
       "        vertical-align: middle;\n",
       "    }\n",
       "\n",
       "    .dataframe tbody tr th {\n",
       "        vertical-align: top;\n",
       "    }\n",
       "\n",
       "    .dataframe thead th {\n",
       "        text-align: right;\n",
       "    }\n",
       "</style>\n",
       "<table border=\"1\" class=\"dataframe\">\n",
       "  <thead>\n",
       "    <tr style=\"text-align: right;\">\n",
       "      <th></th>\n",
       "      <th>label</th>\n",
       "      <th>text</th>\n",
       "      <th>res</th>\n",
       "    </tr>\n",
       "  </thead>\n",
       "  <tbody>\n",
       "    <tr>\n",
       "      <th>32110</th>\n",
       "      <td>1</td>\n",
       "      <td>2107 2923 913 885 6357 7539 6469 1647 4612 173...</td>\n",
       "      <td>1</td>\n",
       "    </tr>\n",
       "    <tr>\n",
       "      <th>14692</th>\n",
       "      <td>1</td>\n",
       "      <td>5788 2164 2539 3764 6822 3659 5602 4230 1970 2...</td>\n",
       "      <td>0</td>\n",
       "    </tr>\n",
       "    <tr>\n",
       "      <th>27730</th>\n",
       "      <td>12</td>\n",
       "      <td>5698 5282 5624 167 3231 314 4261 1667 2376 446...</td>\n",
       "      <td>12</td>\n",
       "    </tr>\n",
       "    <tr>\n",
       "      <th>24310</th>\n",
       "      <td>1</td>\n",
       "      <td>239 4068 1622 1129 2490 3634 5036 2549 1247 70...</td>\n",
       "      <td>0</td>\n",
       "    </tr>\n",
       "    <tr>\n",
       "      <th>144018</th>\n",
       "      <td>7</td>\n",
       "      <td>1348 3017 4399 3961 5573 4516 5602 6835 5296 1...</td>\n",
       "      <td>8</td>\n",
       "    </tr>\n",
       "  </tbody>\n",
       "</table>\n",
       "</div>"
      ],
      "text/plain": [
       "        label                                               text  res\n",
       "32110       1  2107 2923 913 885 6357 7539 6469 1647 4612 173...    1\n",
       "14692       1  5788 2164 2539 3764 6822 3659 5602 4230 1970 2...    0\n",
       "27730      12  5698 5282 5624 167 3231 314 4261 1667 2376 446...   12\n",
       "24310       1  239 4068 1622 1129 2490 3634 5036 2549 1247 70...    0\n",
       "144018      7  1348 3017 4399 3961 5573 4516 5602 6835 5296 1...    8"
      ]
     },
     "execution_count": 34,
     "metadata": {},
     "output_type": "execute_result"
    }
   ],
   "source": [
    "test_samples.head()"
   ]
  },
  {
   "cell_type": "code",
   "execution_count": 36,
   "metadata": {},
   "outputs": [
    {
     "data": {
      "text/plain": [
       "0.175"
      ]
     },
     "execution_count": 36,
     "metadata": {},
     "output_type": "execute_result"
    }
   ],
   "source": [
    "sum(test_samples['label'] == test_samples['res'])/len(test_samples)"
   ]
  }
 ],
 "metadata": {
  "kernelspec": {
   "display_name": "Python 3",
   "language": "python",
   "name": "python3"
  },
  "language_info": {
   "codemirror_mode": {
    "name": "ipython",
    "version": 3
   },
   "file_extension": ".py",
   "mimetype": "text/x-python",
   "name": "python",
   "nbconvert_exporter": "python",
   "pygments_lexer": "ipython3",
   "version": "3.7.2"
  }
 },
 "nbformat": 4,
 "nbformat_minor": 4
}
